{
  "nbformat": 4,
  "nbformat_minor": 0,
  "metadata": {
    "colab": {
      "provenance": []
    },
    "kernelspec": {
      "name": "python3",
      "display_name": "Python 3"
    },
    "language_info": {
      "name": "python"
    }
  },
  "cells": [
    {
      "cell_type": "code",
      "execution_count": null,
      "metadata": {
        "colab": {
          "base_uri": "https://localhost:8080/"
        },
        "id": "KmOwsinbCNIV",
        "outputId": "f86ea17e-0e4c-4bc2-e1b2-9fcef4ab4ab2"
      },
      "outputs": [
        {
          "output_type": "stream",
          "name": "stdout",
          "text": [
            "1D Massiv: [1 2 3 4 5]\n",
            "2D Massiv:\n",
            " [[1 2 3]\n",
            " [4 5 6]]\n",
            "Massivlar yig'indisi: 15\n",
            "O'rtacha: 3.0\n",
            "Ko'paytma: 120\n"
          ]
        }
      ],
      "source": [
        "import numpy as np\n",
        "#1.Massiv yaratish\n",
        "array_1d = np.array([1,2,3,4,5])\n",
        "array_2d = np.array([[1,2,3],[4,5,6]])\n",
        "# 2.Matematik opratsiyalar\n",
        "sum_array = np.sum(array_1d)\n",
        "mean_array = np.mean(array_1d)\n",
        "product_array = np.prod(array_1d)\n",
        "\n",
        "print(\"1D Massiv:\", array_1d)\n",
        "print(\"2D Massiv:\\n\", array_2d)\n",
        "print(\"Massivlar yig'indisi:\", sum_array)\n",
        "print(\"O'rtacha:\", mean_array)\n",
        "print(\"Ko'paytma:\", product_array)"
      ]
    },
    {
      "cell_type": "code",
      "source": [
        "import pandas as pd\n",
        "\n",
        "# 1.DataFrame yaratish\n",
        "data = {\n",
        "    'Ism':['Ali','Vali','Sardor'],\n",
        "    'Yoshi':[25,30,22],\n",
        "    'Shahar':['Toshkent','Samarqand','Buxoro']\n",
        "}\n",
        "df = pd.DataFrame(data)\n",
        "\n",
        "# 2. Ma'lumotlarni ko'rish\n",
        "print(df)\n",
        "\n",
        "# 3. Filtrlash\n",
        "young_people = df[df['Yoshi']<20]\n",
        "print(\"30 yoshdan kichiklar:\\n\", young_people)\n",
        "\n",
        "# 4. O'zgartirish\n",
        "df['Yoshi'] +=1 # Har bir shaxsning yoshini 1 ga oshirish\n",
        "print(\"Yangilangan DataFrame:\\n\",df)"
      ],
      "metadata": {
        "colab": {
          "base_uri": "https://localhost:8080/"
        },
        "id": "2cepYDJCC34g",
        "outputId": "a55fd66a-dffb-49a2-eaf0-6e53572b3d49"
      },
      "execution_count": null,
      "outputs": [
        {
          "output_type": "stream",
          "name": "stdout",
          "text": [
            "      Ism  Yoshi     Shahar\n",
            "0     Ali     25   Toshkent\n",
            "1    Vali     30  Samarqand\n",
            "2  Sardor     22     Buxoro\n",
            "30 yoshdan kichiklar:\n",
            " Empty DataFrame\n",
            "Columns: [Ism, Yoshi, Shahar]\n",
            "Index: []\n",
            "Yangilangan DataFrame:\n",
            "       Ism  Yoshi     Shahar\n",
            "0     Ali     26   Toshkent\n",
            "1    Vali     31  Samarqand\n",
            "2  Sardor     23     Buxoro\n"
          ]
        }
      ]
    },
    {
      "cell_type": "code",
      "source": [
        "import pandas as pd\n",
        "\n",
        "# 1.DataFrame yaratish\n",
        "data= {\n",
        "    'ism':['Maftuna','Ezoza','Shohsanam','Moxichehra','Aziza','Zinnuraxon','Madinaxon','Marjona'],\n",
        "    'Yoshi':[19,19,19,19,19,19,19,19],\n",
        "    'Shahar':['Qoqon','Qoqon','Fargona','Fargona','Andijon','Qoqon','Fargona','Qoqon']\n",
        "}\n",
        "df = pd.DataFrame(data)\n",
        "\n",
        "# 2.Ma'lumotlarni ko'rish\n",
        "print(df)\n",
        "\n",
        "# 3.Filtirlash:20 yoshdan kichiklar\n",
        "young_people=df[df['Yoshi']<20]\n",
        "print(\"20 yoshdan kichiklar:\\n\",young_people)\n",
        "\n",
        "# 4.Yoshi ustunini yangilash\n",
        "df['Yoshi']+=1\n",
        "print(\"Yangilangan DataFrame:\\n\",df)\n",
        "\n",
        "# 5.Fargonada yashaydiganlarni chiqarish\n",
        "fargona_people =df[df['Shahar']=='Fargona']\n",
        "print(\"Fargona yashaydiganlar:\\n\",fargona_people)"
      ],
      "metadata": {
        "colab": {
          "base_uri": "https://localhost:8080/"
        },
        "id": "78JaG5k0DAOE",
        "outputId": "b2a2deeb-6102-4cad-c09e-0c6b51a728c5"
      },
      "execution_count": null,
      "outputs": [
        {
          "output_type": "stream",
          "name": "stdout",
          "text": [
            "          ism  Yoshi   Shahar\n",
            "0     Maftuna     19    Qoqon\n",
            "1       Ezoza     19    Qoqon\n",
            "2   Shohsanam     19  Fargona\n",
            "3  Moxichehra     19  Fargona\n",
            "4       Aziza     19  Andijon\n",
            "5  Zinnuraxon     19    Qoqon\n",
            "6   Madinaxon     19  Fargona\n",
            "7     Marjona     19    Qoqon\n",
            "20 yoshdan kichiklar:\n",
            "           ism  Yoshi   Shahar\n",
            "0     Maftuna     19    Qoqon\n",
            "1       Ezoza     19    Qoqon\n",
            "2   Shohsanam     19  Fargona\n",
            "3  Moxichehra     19  Fargona\n",
            "4       Aziza     19  Andijon\n",
            "5  Zinnuraxon     19    Qoqon\n",
            "6   Madinaxon     19  Fargona\n",
            "7     Marjona     19    Qoqon\n",
            "Yangilangan DataFrame:\n",
            "           ism  Yoshi   Shahar\n",
            "0     Maftuna     20    Qoqon\n",
            "1       Ezoza     20    Qoqon\n",
            "2   Shohsanam     20  Fargona\n",
            "3  Moxichehra     20  Fargona\n",
            "4       Aziza     20  Andijon\n",
            "5  Zinnuraxon     20    Qoqon\n",
            "6   Madinaxon     20  Fargona\n",
            "7     Marjona     20    Qoqon\n",
            "Fargona yashaydiganlar:\n",
            "           ism  Yoshi   Shahar\n",
            "2   Shohsanam     20  Fargona\n",
            "3  Moxichehra     20  Fargona\n",
            "6   Madinaxon     20  Fargona\n"
          ]
        }
      ]
    }
  ]
}